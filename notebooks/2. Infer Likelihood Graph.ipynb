{
 "cells": [
  {
   "cell_type": "markdown",
   "metadata": {},
   "source": [
    "# Inferring Likelihood Graphs using Next Event Predictors"
   ]
  },
  {
   "cell_type": "markdown",
   "metadata": {},
   "source": [
    "In this notebook we infer a likelihood graph using the trained next event predictor.\n",
    "\n",
    "* *Event Log*: The event log for which the likelihood graph should be inferred.\n",
    "* *Model*: The next event predictor to use. The event log the next event predictor was trained on must match the chosen event log.\n",
    "* *Heuristic*: How to determine the likelihood thresholds. Manual selection (must set threshold in appropriate field) or one of the lowest plateau heuristics (cf. BINet papers).\n",
    "* *Threshold*: The likelihood thresholds to use. Separated by commas. Might fail.\n",
    "* *Activity Count Threshold*: If an activity is repeated this often, the case is discarded.\n",
    "* *Group Attribute Nodes*: Whether to also group attribute nodes in the likelihood graph.\n",
    "* *Use Event Attributes*: Whether to also include event attributes in the graph. Must match the used next event predictor."
   ]
  },
  {
   "cell_type": "code",
   "execution_count": 2,
   "metadata": {},
   "outputs": [
    {
     "data": {
      "application/vnd.jupyter.widget-view+json": {
       "model_id": "23fec13883bf47da946bf6f1536ebc0e",
       "version_major": 2,
       "version_minor": 0
      },
      "text/plain": [
       "Output()"
      ]
     },
     "metadata": {},
     "output_type": "display_data"
    },
    {
     "data": {
      "application/vnd.jupyter.widget-view+json": {
       "model_id": "48cbbeee256e402ab65489cdb96791f2",
       "version_major": 2,
       "version_minor": 0
      },
      "text/plain": [
       "Output()"
      ]
     },
     "metadata": {},
     "output_type": "display_data"
    }
   ],
   "source": [
    "import os\n",
    "import sys\n",
    "sys.path.append(os.path.dirname(os.getcwd()))\n",
    "\n",
    "from ipywidgets import widgets, interact, interact_manual, Layout, Button, Box\n",
    "from IPython.display import display\n",
    "\n",
    "from april.fs import DATE_FORMAT, EVENTLOG_DIR, MODEL_DIR\n",
    "from neplg.api import routines\n",
    "\n",
    "import arrow\n",
    "import os\n",
    "\n",
    "\n",
    "event_log_widget = widgets.Dropdown(description='Event Log')\n",
    "\n",
    "model_name_widget = widgets.Dropdown(description='Model')\n",
    "threshold_heuristic_widget = widgets.Dropdown(description='Heuristic', options=['manual', 'left', 'mean', 'right'])\n",
    "next_event_threshold_widget = widgets.Text(descriptions='Likelihood Thresholds')\n",
    "next_event_threshold_widget_hbox = widgets.HBox([widgets.Label(value=\"Likelihood Thresholds (separated by commas)\"), next_event_threshold_widget])\n",
    "activity_count_threshold_widget = widgets.Text(descriptions='Activity Count Threshold', value='5')\n",
    "activity_count_threshold_widget_hbox = widgets.HBox([widgets.Label(value=\"Activity Count Threshold\"), next_event_threshold_widget])\n",
    "group_attributes_widget = widgets.Checkbox(description='Group Attribute Nodes', value=False)\n",
    "event_attributes_widget = widgets.Checkbox(description='Use Event Attributes', value=True)\n",
    "\n",
    "reload_button = widgets.Button(description=\"Reload\")\n",
    "discover_button = widgets.Button(description=\"Discover\")\n",
    "\n",
    "first_row = widgets.HBox([event_log_widget, model_name_widget, reload_button])\n",
    "second_row = widgets.HBox([threshold_heuristic_widget, next_event_threshold_widget_hbox])\n",
    "third_row = widgets.HBox([group_attributes_widget, event_attributes_widget])\n",
    "fourth_row = widgets.HBox([discover_button])\n",
    "\n",
    "parameter_gui = widgets.Output()\n",
    "output = widgets.Output()\n",
    "\n",
    "with parameter_gui:\n",
    "    display(widgets.VBox([first_row, second_row, third_row, widgets.Label(value=\"Activity Count Threshold\"), activity_count_threshold_widget, fourth_row]))\n",
    "\n",
    "def get_all_event_logs():\n",
    "    files = os.listdir(EVENTLOG_DIR)\n",
    "    return [file[0:len(file)-8] for file in files if file[-8:] == '.json.gz']\n",
    "\n",
    "def get_all_models():\n",
    "    files = os.listdir(MODEL_DIR)\n",
    "    return [file[0:len(file)-3] for file in files if file[-3:] == '.h5']\n",
    "    \n",
    "\n",
    "def on_reload(button):\n",
    "    event_log_widget.options = get_all_event_logs()\n",
    "    model_name_widget.options = get_all_models()\n",
    "\n",
    "\n",
    "def discover_process_model(button):\n",
    "    event_log, model, next_event_threshold = event_log_widget.value, model_name_widget.value, next_event_threshold_widget.value \n",
    "    threshold_heuristic = threshold_heuristic_widget.value\n",
    "    group_attribute_nodes, use_event_attributes = group_attributes_widget.value, event_attributes_widget.value\n",
    "    activity_count_threshold = activity_count_threshold_widget.value\n",
    "    \n",
    "    start_time = arrow.now()\n",
    "    \n",
    "    output_name = f'results_{event_log}-{model}-{start_time.format(DATE_FORMAT)}-{group_attribute_nodes}-{next_event_threshold}'\n",
    "    output_locations = [output_name]\n",
    "    \n",
    "    output.clear_output()\n",
    "    with output:\n",
    "        print(f'The discovered process model will be stored as {output_name}')\n",
    "        routines.inference(output_locations=output_locations, event_log=event_log, model=model, threshold_heuristic=threshold_heuristic, next_event_threshold=next_event_threshold, group_attribute_nodes=group_attribute_nodes, activity_count_threshold=int(activity_count_threshold))\n",
    "\n",
    "\n",
    "discover_button.on_click(discover_process_model)\n",
    "reload_button.on_click(on_reload)\n",
    "on_reload(None)\n",
    "\n",
    "display(parameter_gui)\n",
    "display(output)"
   ]
  },
  {
   "cell_type": "code",
   "execution_count": null,
   "metadata": {},
   "outputs": [],
   "source": []
  }
 ],
 "metadata": {
  "kernelspec": {
   "display_name": "Python 3 (ipykernel)",
   "language": "python",
   "name": "python3"
  },
  "language_info": {
   "codemirror_mode": {
    "name": "ipython",
    "version": 3
   },
   "file_extension": ".py",
   "mimetype": "text/x-python",
   "name": "python",
   "nbconvert_exporter": "python",
   "pygments_lexer": "ipython3",
   "version": "3.8.12"
  }
 },
 "nbformat": 4,
 "nbformat_minor": 4
}
