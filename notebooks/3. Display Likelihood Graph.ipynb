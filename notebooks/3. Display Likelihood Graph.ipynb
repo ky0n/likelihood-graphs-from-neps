{
 "cells": [
  {
   "cell_type": "markdown",
   "id": "expressed-cologne",
   "metadata": {},
   "source": [
    "# Displaying Likelihood Graphs\n",
    "\n",
    "Here we can display an inferred likelihood graph. The event log must match the event log the process model is based on."
   ]
  },
  {
   "cell_type": "code",
   "execution_count": 1,
   "id": "clean-ready",
   "metadata": {},
   "outputs": [
    {
     "data": {
      "application/vnd.jupyter.widget-view+json": {
       "model_id": "e161d6cd0e7540648d1cebba29190e01",
       "version_major": 2,
       "version_minor": 0
      },
      "text/plain": [
       "Output()"
      ]
     },
     "metadata": {},
     "output_type": "display_data"
    },
    {
     "data": {
      "application/vnd.jupyter.widget-view+json": {
       "model_id": "bc1d715b49a3481d9ce59ee2590cf667",
       "version_major": 2,
       "version_minor": 0
      },
      "text/plain": [
       "Output()"
      ]
     },
     "metadata": {},
     "output_type": "display_data"
    }
   ],
   "source": [
    "import os\n",
    "import sys\n",
    "sys.path.append(os.path.dirname(os.getcwd()))\n",
    "\n",
    "from ipywidgets import widgets, interact, interact_manual, Layout, Button, Box\n",
    "from IPython.display import display\n",
    "\n",
    "from april.fs import EVALUATION_DIR, EVENTLOG_DIR\n",
    "from april.utils import microsoft_colors\n",
    "from april import Dataset\n",
    "from april.processmining import EventLog\n",
    "\n",
    "import matplotlib.pyplot as plt\n",
    "import pygraphviz\n",
    "import networkx as nx\n",
    "\n",
    "from networkx.algorithms.dag import dag_longest_path_length\n",
    "from networkx.algorithms.traversal.breadth_first_search import generic_bfs_edges\n",
    "\n",
    "import os\n",
    "\n",
    "parameters_gui = widgets.Output()\n",
    "output = widgets.Output()\n",
    "\n",
    "event_log_widget = widgets.Dropdown(description='Event Log')\n",
    "graph_widget = widgets.Dropdown(description='Process Model')\n",
    "\n",
    "show_button = widgets.Button(description=\"Show\")\n",
    "reload_button = widgets.Button(description=\"Reload\")\n",
    "\n",
    "with parameters_gui:\n",
    "    display(widgets.VBox([event_log_widget, graph_widget, widgets.HBox([show_button, reload_button])]))\n",
    "\n",
    "def get_all_event_logs():\n",
    "    files = os.listdir(EVENTLOG_DIR)\n",
    "    return [file[0:len(file)-8] for file in files if file[-8:] == '.json.gz']\n",
    "\n",
    "def get_all_graphs():\n",
    "    files = os.listdir(EVALUATION_DIR)\n",
    "    return [file[0:len(file)-8] for file in files if file[-8:] == '.gpickle']\n",
    "\n",
    "def on_reload(button):\n",
    "    event_log_widget.options = get_all_event_logs()\n",
    "    graph_widget.options = get_all_graphs()\n",
    "\n",
    "def graph_add_display_names(graph, coder_attributes):\n",
    "    \"\"\" Add display names to a graph.\n",
    "        :param graph: The graph for which the display names are to be added.\n",
    "        :param coder_attributes: Decoding labels to display name. \"\"\"\n",
    "    # add identifier attribute\n",
    "    for node in graph.nodes:\n",
    "        node_attributes = graph.nodes[node]\n",
    "        identifier = coder_attributes.decode(node_attributes['label'], node_attributes['attribute'])\n",
    "        node_attributes['display_name'] = identifier\n",
    "\n",
    "def show_graph(button):      # TODO: use event attributes\n",
    "    dataset = Dataset(event_log_widget.value, use_event_attributes=True)\n",
    "    coder_attributes=dataset.get_encoder_decoder_for_attributes()\n",
    "    \n",
    "    graph = nx.read_gpickle(f\"{EVALUATION_DIR / graph_widget.value}.gpickle\")\n",
    "    \n",
    "    length = dag_longest_path_length(graph)\n",
    "\n",
    "    root = [n for n, d in graph.in_degree() if d == 0][0]\n",
    "    graph_width = max(len(nx.descendants_at_distance(graph, root, d)) for d in range(length))\n",
    "    \n",
    "    width = graph_width * 3\n",
    "    height = length * 1.5\n",
    "    \n",
    "    fig = plt.figure(1, (width, height))\n",
    "\n",
    "    pos = nx.drawing.nx_agraph.graphviz_layout(graph, prog='dot')\n",
    "    edge_labels = nx.get_edge_attributes(graph, 'probability')\n",
    "    node_labels = nx.get_node_attributes(graph, 'label')\n",
    "\n",
    "\n",
    "    # add display names if given encoder and decoder\n",
    "    if coder_attributes is not None:\n",
    "        graph_add_display_names(graph, coder_attributes)\n",
    "        node_labels = nx.get_node_attributes(graph, 'display_name')\n",
    "\n",
    "    attribute_colors = microsoft_colors[3:]\n",
    "    colors = dict(zip(range(dataset.num_attributes-1), attribute_colors))\n",
    "\n",
    "    color_map = []\n",
    "    for node in graph:\n",
    "        if graph.nodes[node]['display_name'] in [str(EventLog.start_symbol), str(EventLog.end_symbol)]:\n",
    "            color_map.append(microsoft_colors[0])\n",
    "        elif graph.nodes[node]['attribute'] == 0:\n",
    "            color_map.append(microsoft_colors[2])\n",
    "        else:\n",
    "            color_map.append(colors[graph.nodes[node]['attribute']-1])\n",
    "\n",
    "    nx.draw_networkx_nodes(graph, pos, node_color=color_map)  \n",
    "    nx.draw_networkx_edges(graph, pos)\n",
    "    nx.draw_networkx_edge_labels(graph, pos, edge_labels=edge_labels)\n",
    "    nx.draw_networkx_labels(graph, pos, labels=node_labels)\n",
    "    \n",
    "    output.clear_output()\n",
    "    with output:\n",
    "        plt.show()\n",
    "\n",
    "show_button.on_click(show_graph)\n",
    "\n",
    "reload_button.on_click(on_reload)\n",
    "on_reload(None)\n",
    "\n",
    "display(parameters_gui)\n",
    "display(output)"
   ]
  },
  {
   "cell_type": "code",
   "execution_count": null,
   "id": "third-convenience",
   "metadata": {
    "jupyter": {
     "source_hidden": true
    }
   },
   "outputs": [],
   "source": []
  },
  {
   "cell_type": "code",
   "execution_count": null,
   "id": "vertical-friend",
   "metadata": {},
   "outputs": [],
   "source": []
  }
 ],
 "metadata": {
  "kernelspec": {
   "display_name": "Python 3 (ipykernel)",
   "language": "python",
   "name": "python3"
  },
  "language_info": {
   "codemirror_mode": {
    "name": "ipython",
    "version": 3
   },
   "file_extension": ".py",
   "mimetype": "text/x-python",
   "name": "python",
   "nbconvert_exporter": "python",
   "pygments_lexer": "ipython3",
   "version": "3.8.12"
  }
 },
 "nbformat": 4,
 "nbformat_minor": 5
}
