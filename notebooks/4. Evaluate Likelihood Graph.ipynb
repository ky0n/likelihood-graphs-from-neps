{
 "cells": [
  {
   "cell_type": "markdown",
   "metadata": {},
   "source": [
    "# Evaluating Likelihood graph"
   ]
  },
  {
   "cell_type": "markdown",
   "metadata": {},
   "source": [
    "In this notebook we evaluate the likelihood graph that was inferred using the trained next event predictor.\n",
    "\n",
    "* *Event Log*: The event log for which the likelihood graph was inferred from.\n",
    "* *Result*: The results of the inference.\n"
   ]
  },
  {
   "cell_type": "code",
   "execution_count": 2,
   "metadata": {
    "tags": []
   },
   "outputs": [
    {
     "data": {
      "application/vnd.jupyter.widget-view+json": {
       "model_id": "4223d0f8a1934a67a025c19d9ef7d469",
       "version_major": 2,
       "version_minor": 0
      },
      "text/plain": [
       "Output()"
      ]
     },
     "metadata": {},
     "output_type": "display_data"
    },
    {
     "data": {
      "application/vnd.jupyter.widget-view+json": {
       "model_id": "e9c5268bd741435587157f64b6bb631d",
       "version_major": 2,
       "version_minor": 0
      },
      "text/plain": [
       "Output()"
      ]
     },
     "metadata": {},
     "output_type": "display_data"
    }
   ],
   "source": [
    "import os\n",
    "import sys\n",
    "sys.path.append(os.path.dirname(os.getcwd()))\n",
    "\n",
    "from ipywidgets import widgets, interact, interact_manual, Layout, Button, Box\n",
    "from IPython.display import display\n",
    "\n",
    "from april.fs import DATE_FORMAT, EVENTLOG_DIR, EVALUATION_DIR\n",
    "from neplg.api import routines\n",
    "\n",
    "import arrow\n",
    "import os\n",
    "\n",
    "event_log_widget = widgets.Dropdown(description='Event Log')\n",
    "model_name_widget = widgets.Dropdown(description='Result')\n",
    "\n",
    "reload_button = widgets.Button(description=\"Reload\")\n",
    "discover_button = widgets.Button(description=\"Evaluate\")\n",
    "\n",
    "parameter_gui = widgets.Output()\n",
    "output = widgets.Output()\n",
    "\n",
    "with parameter_gui:\n",
    "    display(widgets.VBox([event_log_widget, model_name_widget, widgets.HBox([discover_button, reload_button])]))\n",
    "\n",
    "def get_all_event_logs():\n",
    "    files = os.listdir(EVENTLOG_DIR)\n",
    "    return [file[0:len(file)-8] for file in files if file[-8:] == '.json.gz']\n",
    "\n",
    "def get_all_models():\n",
    "    files = os.listdir(EVALUATION_DIR)\n",
    "    return [file[0:len(file)-7] for file in files if file[-7:] == '.pickle']\n",
    "\n",
    "\n",
    "def on_reload(button):\n",
    "    event_log_widget.options = get_all_event_logs()\n",
    "    model_name_widget.options = get_all_models()\n",
    "\n",
    "def discover_process_model(button):\n",
    "    event_log, model = event_log_widget.value, model_name_widget.value\n",
    "    \n",
    "    start_time = arrow.now()\n",
    "    \n",
    "    output_name = f'{model}_evaluation'\n",
    "    output_locations = [output_name]\n",
    "    \n",
    "    output.clear_output()\n",
    "    with output:\n",
    "        print(f'The evaluation results will be stored as {output_name}')\n",
    "        routines.evaluate(output_locations=output_locations, event_log=event_log, file_name=model)\n",
    "\n",
    "discover_button.on_click(discover_process_model)\n",
    "reload_button.on_click(on_reload)\n",
    "on_reload(None)\n",
    "\n",
    "display(parameter_gui)\n",
    "display(output)"
   ]
  },
  {
   "cell_type": "code",
   "execution_count": null,
   "metadata": {
    "jupyter": {
     "source_hidden": true
    }
   },
   "outputs": [],
   "source": []
  },
  {
   "cell_type": "code",
   "execution_count": null,
   "metadata": {},
   "outputs": [],
   "source": []
  }
 ],
 "metadata": {
  "kernelspec": {
   "display_name": "Python 3 (ipykernel)",
   "language": "python",
   "name": "python3"
  },
  "language_info": {
   "codemirror_mode": {
    "name": "ipython",
    "version": 3
   },
   "file_extension": ".py",
   "mimetype": "text/x-python",
   "name": "python",
   "nbconvert_exporter": "python",
   "pygments_lexer": "ipython3",
   "version": "3.8.12"
  }
 },
 "nbformat": 4,
 "nbformat_minor": 4
}
